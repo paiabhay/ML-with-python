{
 "cells": [
  {
   "cell_type": "markdown",
   "metadata": {},
   "source": [
    "# Coverting Dataset into machine readable numerical format\n",
    "### Label Encoder\n",
    "Label encoder is a class that converts categorical data into machine understandable format (i.e numerical format). <br>\n",
    "It replaces the existing data with encoded data. <br>\n",
    "Link: <a href=\"https://bit.ly/2F2Jc60\">sklearn LabelEncoder</a>"
   ]
  },
  {
   "cell_type": "code",
   "execution_count": 1,
   "metadata": {},
   "outputs": [],
   "source": [
    "# Helping libraries\n",
    "import pandas as pd\n",
    "import numpy as np\n",
    "from sklearn.preprocessing import LabelEncoder\n",
    "from sklearn.preprocessing import OneHotEncoder\n",
    "from sklearn.feature_selection import SelectKBest, chi2"
   ]
  },
  {
   "cell_type": "code",
   "execution_count": 2,
   "metadata": {},
   "outputs": [],
   "source": [
    "class MultiColumn_LabelEncoder:\n",
    "    \n",
    "    # Specify column names that needs to be encoded\n",
    "    def __init__(self, columns=None):\n",
    "        self.columns = columns\n",
    "    \n",
    "    def fit(self, X, y):\n",
    "        return self\n",
    "    \n",
    "    def transform(self, X, y=None):\n",
    "        output = X.copy()\n",
    "        if self.columns is not None:\n",
    "            for column in self.columns:\n",
    "                output[column] = LabelEncoder().fit_transform(output[column])\n",
    "                output[column] = output[column].astype('category')\n",
    "        else:\n",
    "            for column_name, column in output.iteritems():\n",
    "                output[column_name] = LabelEncoder().fit_transform(column)\n",
    "        return output\n",
    "    \n",
    "    def fit_transform(self, X, y=None):\n",
    "        return self.fit(X, y).transform(X)"
   ]
  },
  {
   "cell_type": "code",
   "execution_count": 3,
   "metadata": {},
   "outputs": [],
   "source": [
    "class Preprocess:\n",
    "    def __init__(self, data, columns):\n",
    "        self.data = data\n",
    "        self.columns = columns\n",
    "    \n",
    "    def one_hot_encode(self):\n",
    "        # Seperating Features and Labels\n",
    "        X = self.data.iloc[:, :-1]\n",
    "        y = self.data.iloc[:, -1]\n",
    "        \n",
    "        columns_to_encode = list(X.select_dtypes(include=['category', object]))\n",
    "\n",
    "        # One-hot encoding on Features with categorical values\n",
    "        X_new = pd.get_dummies(X, drop_first=True, columns=columns_to_encode)\n",
    "    \n",
    "        return X_new, y"
   ]
  },
  {
   "cell_type": "markdown",
   "metadata": {},
   "source": [
    "# Check best features\n",
    "### SelectKBest\n",
    "We use <b>SelectKBest</b> class from sklearn for cheecking the scores of each attributes and then decide which one to eiminate in case if the contribution of the attribute is for learning is low.\n",
    "Link: <a href=\"https://bit.ly/2w0hp1Q\">sklearn SelectKBest</a>"
   ]
  },
  {
   "cell_type": "code",
   "execution_count": 4,
   "metadata": {},
   "outputs": [],
   "source": [
    "def main():\n",
    "    data = pd.read_csv('datasets/adult_training.csv', na_values=' ?')\n",
    "    \n",
    "    # Handling NAN values_training.csv', na_values=' ?')\n",
    "    data = data.dropna()\n",
    "    \n",
    "    # Array of column names with data type as object (non integer or float)\n",
    "    object_attributes = list(data.select_dtypes(include='object'))\n",
    "    \n",
    "    label_encoder = MultiColumn_LabelEncoder(columns=object_attributes)\n",
    "    new_data = label_encoder.fit_transform(data)\n",
    "    \n",
    "    X, y = Preprocess(data=data, columns=object_attributes).one_hot_encode()\n",
    "    print(\"Column names after one hot encoding :\\n\", list(X.columns))\n",
    "    print(\"\\nTotal number of columns: \", len(list(X.columns)))\n",
    "    \n",
    "    # Numpy array for features and labels\n",
    "    X = np.array(X.values)\n",
    "    y = np.array(y.values)\n",
    "    \n",
    "    # Check scores of each attribute for selecting best ones\n",
    "    selector = SelectKBest(score_func=chi2, k='all')\n",
    "    X_new = selector.fit_transform(X, y)\n",
    "    print(\"\\nFeature scores: \", selector.scores_)"
   ]
  },
  {
   "cell_type": "code",
   "execution_count": 5,
   "metadata": {},
   "outputs": [
    {
     "name": "stdout",
     "output_type": "stream",
     "text": [
      "Column names after one hot encoding :\n",
      " ['Age', 'Fnlwgt', 'Capital_Gain', 'Capital_Loss', 'Hours_Per_Week', 'Workclass_ Local-gov', 'Workclass_ Private', 'Workclass_ Self-emp-inc', 'Workclass_ Self-emp-not-inc', 'Workclass_ State-gov', 'Workclass_ Without-pay', 'Education_ 11th', 'Education_ 12th', 'Education_ 1st-4th', 'Education_ 5th-6th', 'Education_ 7th-8th', 'Education_ 9th', 'Education_ Assoc-acdm', 'Education_ Assoc-voc', 'Education_ Bachelors', 'Education_ Doctorate', 'Education_ HS-grad', 'Education_ Masters', 'Education_ Preschool', 'Education_ Prof-school', 'Education_ Some-college', 'Marital_Status_ Married-AF-spouse', 'Marital_Status_ Married-civ-spouse', 'Marital_Status_ Married-spouse-absent', 'Marital_Status_ Never-married', 'Marital_Status_ Separated', 'Marital_Status_ Widowed', 'Occupation_ Armed-Forces', 'Occupation_ Craft-repair', 'Occupation_ Exec-managerial', 'Occupation_ Farming-fishing', 'Occupation_ Handlers-cleaners', 'Occupation_ Machine-op-inspct', 'Occupation_ Other-service', 'Occupation_ Priv-house-serv', 'Occupation_ Prof-specialty', 'Occupation_ Protective-serv', 'Occupation_ Sales', 'Occupation_ Tech-support', 'Occupation_ Transport-moving', 'Relationship_ Not-in-family', 'Relationship_ Other-relative', 'Relationship_ Own-child', 'Relationship_ Unmarried', 'Relationship_ Wife', 'Race_ Asian-Pac-Islander', 'Race_ Black', 'Race_ Other', 'Race_ White', 'Gender_ Male', 'Native_Country_ Canada', 'Native_Country_ China', 'Native_Country_ Columbia', 'Native_Country_ Cuba', 'Native_Country_ Dominican-Republic', 'Native_Country_ Ecuador', 'Native_Country_ El-Salvador', 'Native_Country_ England', 'Native_Country_ France', 'Native_Country_ Germany', 'Native_Country_ Greece', 'Native_Country_ Guatemala', 'Native_Country_ Haiti', 'Native_Country_ Holand-Netherlands', 'Native_Country_ Honduras', 'Native_Country_ Hong', 'Native_Country_ Hungary', 'Native_Country_ India', 'Native_Country_ Iran', 'Native_Country_ Ireland', 'Native_Country_ Italy', 'Native_Country_ Jamaica', 'Native_Country_ Japan', 'Native_Country_ Laos', 'Native_Country_ Mexico', 'Native_Country_ Nicaragua', 'Native_Country_ Outlying-US(Guam-USVI-etc)', 'Native_Country_ Peru', 'Native_Country_ Philippines', 'Native_Country_ Poland', 'Native_Country_ Portugal', 'Native_Country_ Puerto-Rico', 'Native_Country_ Scotland', 'Native_Country_ South', 'Native_Country_ Taiwan', 'Native_Country_ Thailand', 'Native_Country_ Trinadad&Tobago', 'Native_Country_ United-States', 'Native_Country_ Vietnam', 'Native_Country_ Yugoslavia']\n",
      "\n",
      "Total number of columns:  95\n",
      "\n",
      "Feature scores:  [7.92771612e+03 1.42328959e+05 7.41281918e+07 1.25609875e+06\n",
      " 5.56920909e+03 2.30974945e+01 1.08216520e+02 5.51113206e+02\n",
      " 1.80933694e+01 2.74672252e+00 4.63988700e+00 2.07987236e+02\n",
      " 5.96549337e+01 3.53426446e+01 6.61693796e+01 1.03165160e+02\n",
      " 9.15724663e+01 1.37267057e-01 1.42468947e+00 8.03431230e+02\n",
      " 4.96929481e+02 3.76632065e+02 8.65174210e+02 1.49139225e+01\n",
      " 7.25203075e+02 8.52806380e+01 5.80158890e+00 3.19359424e+03\n",
      " 5.39697698e+01 2.09334269e+03 1.60269007e+02 1.02450347e+02\n",
      " 9.14247427e-01 1.20180268e+01 1.19223419e+03 9.30719461e+01\n",
      " 2.53696270e+02 1.62481764e+02 7.42042691e+02 4.47676942e+01\n",
      " 8.60189822e+02 2.05102875e+01 9.04757377e+00 1.52441012e+01\n",
      " 1.77888964e+01 8.37953746e+02 2.08803694e+02 1.31460773e+03\n",
      " 5.72887567e+02 4.50215573e+02 3.79948308e+00 2.13358634e+02\n",
      " 3.08496965e+01 3.03645279e+01 4.59346270e+02 4.38440003e+00\n",
      " 7.42923190e-01 1.36159185e+01 2.56178404e-01 1.71988190e+01\n",
      " 1.46661045e+00 1.35089566e+01 4.59207052e+00 5.52085011e+00\n",
      " 6.15644237e+00 1.12572127e-01 1.36550735e+01 5.30591046e+00\n",
      " 3.31420500e-01 1.75993294e+00 4.54389450e-01 2.29141343e-02\n",
      " 1.22081758e+01 7.25019580e+00 2.11486333e-01 3.93534484e+00\n",
      " 6.57114919e+00 6.26577171e+00 1.56699246e+00 1.23841560e+02\n",
      " 6.25952605e+00 4.63988700e+00 5.33009771e+00 4.95918605e+00\n",
      " 8.25385901e-01 3.13398493e+00 1.12369617e+01 2.64938176e-01\n",
      " 1.01660446e+00 9.29933596e+00 4.77308925e-01 1.82849485e+00\n",
      " 4.29638380e+00 9.98605673e+00 1.36033657e+00]\n"
     ]
    }
   ],
   "source": [
    "if __name__ == '__main__':\n",
    "    main()"
   ]
  }
 ],
 "metadata": {
  "kernelspec": {
   "display_name": "Python 3",
   "language": "python",
   "name": "python3"
  },
  "language_info": {
   "codemirror_mode": {
    "name": "ipython",
    "version": 3
   },
   "file_extension": ".py",
   "mimetype": "text/x-python",
   "name": "python",
   "nbconvert_exporter": "python",
   "pygments_lexer": "ipython3",
   "version": "3.6.8"
  }
 },
 "nbformat": 4,
 "nbformat_minor": 2
}
