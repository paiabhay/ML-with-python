{
 "cells": [
  {
   "cell_type": "markdown",
   "metadata": {},
   "source": [
    "# Tensorflow Variables and Placeholders\n",
    "There are 2 types of objects in tensorflow graphs:<br>\n",
    "    1. Variables\n",
    "    2. Placeholders\n",
    "\n",
    "### Variaables\n",
    "During the optimization process, tensorflow tunes the parameters of the model. <br>\n",
    "Variables can hold the values of <b>Weights</b> and <b>Biases</b> throughout the session.<br>\n",
    "Variables must need to be initialized.\n",
    "\n",
    "### Placeholders\n",
    "Placeholders are initially empty and used to feed in actual training examples.<br>\n",
    "They do need a <b>declared expected datatype</b>(tf.float32) with an optional shape arguments (shape of the data)."
   ]
  },
  {
   "cell_type": "code",
   "execution_count": 1,
   "metadata": {},
   "outputs": [],
   "source": [
    "# Helping libraries\n",
    "import tensorflow as tf"
   ]
  },
  {
   "cell_type": "code",
   "execution_count": 2,
   "metadata": {},
   "outputs": [],
   "source": [
    "# Build interactive sessions\n",
    "sess = tf.InteractiveSession()"
   ]
  },
  {
   "cell_type": "code",
   "execution_count": 3,
   "metadata": {},
   "outputs": [
    {
     "name": "stdout",
     "output_type": "stream",
     "text": [
      "Tensor(\"random_uniform:0\", shape=(4, 4), dtype=float32)\n"
     ]
    }
   ],
   "source": [
    "# Defining an array of 4 X 4 with random numbers between 0 and 1\n",
    "my_tensor = tf.random_uniform((4, 4), 0, 1)\n",
    "print(my_tensor)"
   ]
  },
  {
   "cell_type": "code",
   "execution_count": 4,
   "metadata": {},
   "outputs": [
    {
     "name": "stdout",
     "output_type": "stream",
     "text": [
      "WARNING:tensorflow:From C:\\Users\\abhay\\Anaconda3\\lib\\site-packages\\tensorflow\\python\\framework\\op_def_library.py:263: colocate_with (from tensorflow.python.framework.ops) is deprecated and will be removed in a future version.\n",
      "Instructions for updating:\n",
      "Colocations handled automatically by placer.\n",
      "<tf.Variable 'Variable:0' shape=(4, 4) dtype=float32_ref>\n"
     ]
    }
   ],
   "source": [
    "my_variable = tf.Variable(initial_value=my_tensor)\n",
    "print(my_variable)"
   ]
  },
  {
   "cell_type": "markdown",
   "metadata": {},
   "source": [
    "## Initialize before session run\n",
    "You need to initialize a variable before running a session.<br>\n",
    "All the vaiables will be initialized with tf.global_variables_initializer()"
   ]
  },
  {
   "cell_type": "code",
   "execution_count": 5,
   "metadata": {},
   "outputs": [],
   "source": [
    "init = tf.global_variables_initializer()"
   ]
  },
  {
   "cell_type": "code",
   "execution_count": 6,
   "metadata": {},
   "outputs": [],
   "source": [
    "sess.run(init)"
   ]
  },
  {
   "cell_type": "code",
   "execution_count": 7,
   "metadata": {},
   "outputs": [
    {
     "data": {
      "text/plain": [
       "array([[0.16987514, 0.23972154, 0.8648385 , 0.8229134 ],\n",
       "       [0.08463204, 0.22179186, 0.34846377, 0.4550948 ],\n",
       "       [0.36107767, 0.20375657, 0.5508244 , 0.9946923 ],\n",
       "       [0.8277743 , 0.10142863, 0.36329317, 0.902544  ]], dtype=float32)"
      ]
     },
     "execution_count": 7,
     "metadata": {},
     "output_type": "execute_result"
    }
   ],
   "source": [
    "sess.run(my_variable)"
   ]
  },
  {
   "cell_type": "code",
   "execution_count": 8,
   "metadata": {},
   "outputs": [],
   "source": [
    "# Defining a Plceholder\n",
    "ph = tf.placeholder(tf.float32, shape=(None, 4))"
   ]
  },
  {
   "cell_type": "code",
   "execution_count": 9,
   "metadata": {},
   "outputs": [
    {
     "name": "stdout",
     "output_type": "stream",
     "text": [
      "Tensor(\"Placeholder:0\", shape=(?, 4), dtype=float32)\n"
     ]
    }
   ],
   "source": [
    "print(ph)"
   ]
  },
  {
   "cell_type": "code",
   "execution_count": null,
   "metadata": {},
   "outputs": [],
   "source": []
  }
 ],
 "metadata": {
  "kernelspec": {
   "display_name": "Python 3",
   "language": "python",
   "name": "python3"
  },
  "language_info": {
   "codemirror_mode": {
    "name": "ipython",
    "version": 3
   },
   "file_extension": ".py",
   "mimetype": "text/x-python",
   "name": "python",
   "nbconvert_exporter": "python",
   "pygments_lexer": "ipython3",
   "version": "3.6.8"
  }
 },
 "nbformat": 4,
 "nbformat_minor": 2
}
