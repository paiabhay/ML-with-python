{
 "cells": [
  {
   "cell_type": "markdown",
   "metadata": {},
   "source": [
    "# Tensorflow Basics\n",
    "Here we will see \n",
    "    1. How to define basic matrices\n",
    "    2. Create an interactive session\n",
    "    3. Basic Matrix multiplication"
   ]
  },
  {
   "cell_type": "code",
   "execution_count": 1,
   "metadata": {},
   "outputs": [],
   "source": [
    "# Helping libraries\n",
    "import tensorflow as tf"
   ]
  },
  {
   "cell_type": "code",
   "execution_count": 2,
   "metadata": {},
   "outputs": [],
   "source": [
    "constant = tf.constant(10)\n",
    "fill_matrix = tf.fill((4, 4), 8)\n",
    "my_zeros = tf.zeros((4, 4))\n",
    "my_ones = tf.ones((4, 4))\n",
    "my_random = tf.random_normal((4, 4), mean=0, stddev=1.0)\n",
    "my_randomu = tf.random_uniform((4, 4), minval=0, maxval= 5)\n",
    "\n",
    "all_in_one = [constant, fill_matrix, my_zeros, my_ones, my_random, my_randomu]"
   ]
  },
  {
   "cell_type": "markdown",
   "metadata": {},
   "source": [
    "## Create an interactive session"
   ]
  },
  {
   "cell_type": "code",
   "execution_count": 3,
   "metadata": {},
   "outputs": [],
   "source": [
    "sess = tf.InteractiveSession()"
   ]
  },
  {
   "cell_type": "markdown",
   "metadata": {},
   "source": [
    "### Printing all the outputs once by one"
   ]
  },
  {
   "cell_type": "code",
   "execution_count": 4,
   "metadata": {},
   "outputs": [
    {
     "name": "stdout",
     "output_type": "stream",
     "text": [
      "10\n",
      "\n",
      "\n",
      "[[8 8 8 8]\n",
      " [8 8 8 8]\n",
      " [8 8 8 8]\n",
      " [8 8 8 8]]\n",
      "\n",
      "\n",
      "[[0. 0. 0. 0.]\n",
      " [0. 0. 0. 0.]\n",
      " [0. 0. 0. 0.]\n",
      " [0. 0. 0. 0.]]\n",
      "\n",
      "\n",
      "[[1. 1. 1. 1.]\n",
      " [1. 1. 1. 1.]\n",
      " [1. 1. 1. 1.]\n",
      " [1. 1. 1. 1.]]\n",
      "\n",
      "\n",
      "[[-0.1964892   0.027832    1.0685886   1.3214697 ]\n",
      " [ 0.08595958  0.6432148  -1.3514285  -1.2243563 ]\n",
      " [ 0.00605912 -0.04036206  0.36944252  1.7487292 ]\n",
      " [ 1.4078075   0.98234     0.71645606 -0.9123325 ]]\n",
      "\n",
      "\n",
      "[[0.21460414 1.4758658  2.7079864  3.1882775 ]\n",
      " [4.5753508  4.677349   0.7556021  2.108878  ]\n",
      " [1.5551198  1.5792769  1.3268131  2.5289755 ]\n",
      " [1.0284263  4.290866   2.0385373  0.2032888 ]]\n",
      "\n",
      "\n"
     ]
    }
   ],
   "source": [
    "for i in all_in_one:\n",
    "    print(sess.run(i))\n",
    "    print('\\n')"
   ]
  },
  {
   "cell_type": "markdown",
   "metadata": {},
   "source": [
    "### Once can also use eval instead of session"
   ]
  },
  {
   "cell_type": "code",
   "execution_count": 5,
   "metadata": {},
   "outputs": [
    {
     "name": "stdout",
     "output_type": "stream",
     "text": [
      "10\n",
      "\n",
      "\n",
      "[[8 8 8 8]\n",
      " [8 8 8 8]\n",
      " [8 8 8 8]\n",
      " [8 8 8 8]]\n",
      "\n",
      "\n",
      "[[0. 0. 0. 0.]\n",
      " [0. 0. 0. 0.]\n",
      " [0. 0. 0. 0.]\n",
      " [0. 0. 0. 0.]]\n",
      "\n",
      "\n",
      "[[1. 1. 1. 1.]\n",
      " [1. 1. 1. 1.]\n",
      " [1. 1. 1. 1.]\n",
      " [1. 1. 1. 1.]]\n",
      "\n",
      "\n",
      "[[-0.21060014 -0.03322024 -2.2875502  -1.9398336 ]\n",
      " [-1.0039518   0.6778464   1.3607837  -0.3959595 ]\n",
      " [-0.57938826  0.39641848  0.6791731   1.3419064 ]\n",
      " [ 0.13460827 -0.1507616  -0.86617815 -0.48525748]]\n",
      "\n",
      "\n",
      "[[0.040012   4.365739   0.3755349  0.09205699]\n",
      " [2.4878943  4.5105286  4.163065   2.9066467 ]\n",
      " [0.805099   3.0578709  1.2184238  3.4647322 ]\n",
      " [1.2857473  4.260679   0.7257384  0.01220465]]\n",
      "\n",
      "\n"
     ]
    }
   ],
   "source": [
    "for i in all_in_one:\n",
    "    print(i.eval())\n",
    "    print('\\n')"
   ]
  },
  {
   "cell_type": "markdown",
   "metadata": {},
   "source": [
    "## Matrix multiplication"
   ]
  },
  {
   "cell_type": "code",
   "execution_count": 6,
   "metadata": {},
   "outputs": [],
   "source": [
    "mat_a = tf.constant([[1, 2],\n",
    "                     [3, 4]])\n",
    "mat_b = tf.constant([[2, 4],\n",
    "                     [5, 5],\n",
    "                     [2, 7]])"
   ]
  },
  {
   "cell_type": "code",
   "execution_count": 7,
   "metadata": {},
   "outputs": [
    {
     "name": "stdout",
     "output_type": "stream",
     "text": [
      "(2, 2)\n",
      "(3, 2)\n"
     ]
    }
   ],
   "source": [
    "print(mat_a.get_shape())\n",
    "print(mat_b.get_shape())"
   ]
  },
  {
   "cell_type": "code",
   "execution_count": 8,
   "metadata": {},
   "outputs": [],
   "source": [
    "mat_mul = tf.matmul(mat_b, mat_a)"
   ]
  },
  {
   "cell_type": "code",
   "execution_count": 9,
   "metadata": {},
   "outputs": [
    {
     "data": {
      "text/plain": [
       "array([[14, 20],\n",
       "       [20, 30],\n",
       "       [23, 32]])"
      ]
     },
     "execution_count": 9,
     "metadata": {},
     "output_type": "execute_result"
    }
   ],
   "source": [
    "sess.run(mat_mul)"
   ]
  },
  {
   "cell_type": "code",
   "execution_count": null,
   "metadata": {},
   "outputs": [],
   "source": []
  }
 ],
 "metadata": {
  "kernelspec": {
   "display_name": "Python 3",
   "language": "python",
   "name": "python3"
  },
  "language_info": {
   "codemirror_mode": {
    "name": "ipython",
    "version": 3
   },
   "file_extension": ".py",
   "mimetype": "text/x-python",
   "name": "python",
   "nbconvert_exporter": "python",
   "pygments_lexer": "ipython3",
   "version": "3.6.8"
  }
 },
 "nbformat": 4,
 "nbformat_minor": 2
}
